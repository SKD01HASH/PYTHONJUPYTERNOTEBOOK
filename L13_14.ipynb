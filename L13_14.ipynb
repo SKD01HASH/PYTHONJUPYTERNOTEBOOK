{
  "nbformat": 4,
  "nbformat_minor": 0,
  "metadata": {
    "colab": {
      "name": "L13-14.ipynb",
      "provenance": [],
      "collapsed_sections": [
        "Lw9rKwmggVYD"
      ]
    },
    "kernelspec": {
      "name": "python3",
      "display_name": "Python 3"
    }
  },
  "cells": [
    {
      "cell_type": "markdown",
      "metadata": {
        "id": "OclaLQBDP1E5"
      },
      "source": [
        "## Mutable vs Unmutable"
      ]
    },
    {
      "cell_type": "code",
      "metadata": {
        "id": "xj8TqPKrVJt2"
      },
      "source": [
        "s = [1,2,3,4]\n",
        "t = s\n",
        "t.append(5)\n",
        "print(t)"
      ],
      "execution_count": null,
      "outputs": []
    },
    {
      "cell_type": "code",
      "metadata": {
        "id": "G0y0YyWlVNKl"
      },
      "source": [
        "print(s)"
      ],
      "execution_count": null,
      "outputs": []
    },
    {
      "cell_type": "code",
      "metadata": {
        "id": "KeIgg3n5VKvH"
      },
      "source": [
        "s = [1,2,3,4]\n",
        "t = s[:]\n",
        "t.append(5)\n",
        "print(t)"
      ],
      "execution_count": null,
      "outputs": []
    },
    {
      "cell_type": "code",
      "metadata": {
        "id": "Wt0XhvTtVPOi"
      },
      "source": [
        "print(s)"
      ],
      "execution_count": null,
      "outputs": []
    },
    {
      "cell_type": "code",
      "metadata": {
        "id": "pJ1xTjGbP3jy"
      },
      "source": [
        "indoor = ['badminton', 'table-tennis', 'carrom']\n",
        "outdoor = ['football', 'cricket']\n",
        "\n",
        "# create a tuple using above two lists\n",
        "games = (indoor, outdoor)\n",
        "\n",
        "print(games)"
      ],
      "execution_count": null,
      "outputs": []
    },
    {
      "cell_type": "code",
      "metadata": {
        "id": "skXoiDN8P7dq"
      },
      "source": [
        "# lets create another lists for card games\n",
        "\n",
        "cards = ['solitaire', 'hearts', 'freecell']"
      ],
      "execution_count": null,
      "outputs": []
    },
    {
      "cell_type": "code",
      "metadata": {
        "id": "NNGjcct6P90G"
      },
      "source": [
        "# print first element in a tuple\n",
        "games[0]"
      ],
      "execution_count": null,
      "outputs": []
    },
    {
      "cell_type": "code",
      "metadata": {
        "id": "3Uu7jVeRQBfk"
      },
      "source": [
        "# lets try to replace it with cards\n",
        "\n",
        "games[0] = cards\n",
        "\n",
        "# Should get an error!! tuple is not mutable!"
      ],
      "execution_count": null,
      "outputs": []
    },
    {
      "cell_type": "code",
      "metadata": {
        "id": "AYNX2ulfQHhV"
      },
      "source": [
        "# create another tuple games1 with all three lists as tuple elements\n",
        "\n",
        "games1 = (['badminton', 'table-tennis', 'carrom'], ['football', 'cricket'], \n",
        "          ['solitaire', 'hearts', 'freecell'])\n",
        "print(games1)"
      ],
      "execution_count": null,
      "outputs": []
    },
    {
      "cell_type": "code",
      "metadata": {
        "id": "MG2d-pbEQINP"
      },
      "source": [
        "games1[:2] == games"
      ],
      "execution_count": null,
      "outputs": []
    },
    {
      "cell_type": "code",
      "metadata": {
        "id": "XlAVpWhHQLg9"
      },
      "source": [
        "# try to change first element in outdoor list\n",
        "outdoor[0] = 'hockey' # lists are mutable\n",
        "print(outdoor)"
      ],
      "execution_count": null,
      "outputs": []
    },
    {
      "cell_type": "code",
      "metadata": {
        "id": "opZHusykQP-u"
      },
      "source": [
        "games"
      ],
      "execution_count": null,
      "outputs": []
    },
    {
      "cell_type": "code",
      "metadata": {
        "id": "M20aY6stQQcj"
      },
      "source": [
        "# has the tuple modified?\n",
        "\n",
        "games1[:2] == games"
      ],
      "execution_count": null,
      "outputs": []
    },
    {
      "cell_type": "code",
      "metadata": {
        "id": "RQo27a8IQXQ0"
      },
      "source": [
        "#Is it correct? Earlier we said that tuples are not mutable and now we are \n",
        "#modifying it."
      ],
      "execution_count": null,
      "outputs": []
    },
    {
      "cell_type": "code",
      "metadata": {
        "id": "J06avPD3QcCi"
      },
      "source": [
        "# lets try to fix this\n",
        "\n",
        "games1[1][0] = 'hockey'\n",
        "games1[:2] == games"
      ],
      "execution_count": null,
      "outputs": []
    },
    {
      "cell_type": "code",
      "metadata": {
        "id": "Kz44rE9QQe2i"
      },
      "source": [
        "print(games1)"
      ],
      "execution_count": null,
      "outputs": []
    },
    {
      "cell_type": "markdown",
      "metadata": {
        "id": "ZejcEAkUXr4W"
      },
      "source": [
        "## More List Operations"
      ]
    },
    {
      "cell_type": "code",
      "metadata": {
        "id": "NLLTQF8yXqot"
      },
      "source": [
        "marks = [9, 3, 4.4, 8, 8.7, 1, 0, 7.8, 3.5, 7.9, 3.94, 6.2, 10, 8.33, 5, 5.88, 9.21]"
      ],
      "execution_count": null,
      "outputs": []
    },
    {
      "cell_type": "code",
      "metadata": {
        "id": "bk7iZ5zyX4XO"
      },
      "source": [
        "# has anyone got 3.94 marks?\n",
        "\n",
        "3.94 in marks"
      ],
      "execution_count": null,
      "outputs": []
    },
    {
      "cell_type": "code",
      "metadata": {
        "id": "GhW-kacOX4OU"
      },
      "source": [
        "# has anyone got 3.54 marks?\n",
        "\n",
        "3.54 in marks"
      ],
      "execution_count": null,
      "outputs": []
    },
    {
      "cell_type": "code",
      "metadata": {
        "id": "62XhDsQUX8Hq"
      },
      "source": [
        "# for ... in construct to iterate over the list\n",
        "\n",
        "for m in marks:\n",
        "  print(2*m)"
      ],
      "execution_count": null,
      "outputs": []
    },
    {
      "cell_type": "markdown",
      "metadata": {
        "id": "555CRYDHPrYQ"
      },
      "source": [
        "## List Comprehension"
      ]
    },
    {
      "cell_type": "code",
      "metadata": {
        "id": "KfWcD02O6W58"
      },
      "source": [
        "# Create a list of squares of first n numbers\n",
        "n = 5\n",
        "squares = [1, 4, 9, 16, 25]\n",
        "squares"
      ],
      "execution_count": null,
      "outputs": []
    },
    {
      "cell_type": "code",
      "metadata": {
        "id": "PtB3Zx4IZOZG"
      },
      "source": [
        "# Create a list of squares of first n numbers\n",
        "# n = 50\n",
        "# squares = [1, 4, 9, 16, 25,..........]\n",
        "# lets use list comprehension\n",
        "\n",
        "squares = [x * x for x in range(1, 51)]\n",
        "squares"
      ],
      "execution_count": null,
      "outputs": []
    },
    {
      "cell_type": "code",
      "metadata": {
        "id": "AFOFI-yjZUso"
      },
      "source": [
        "nums = [-1, 25, 9, -30, 5]\n",
        "\n",
        "pos = [x for x in nums if x > 0]\n",
        "print(pos)\n",
        "\n",
        "sqneg = [x * x for x in nums if x < 0]\n",
        "print(sqneg)\n",
        "\n",
        "abspairs = [(x, abs(x)) for x in nums]\n",
        "print(abspairs)"
      ],
      "execution_count": null,
      "outputs": []
    },
    {
      "cell_type": "code",
      "metadata": {
        "id": "E8Oa5uLZZW83"
      },
      "source": [
        "# add a pair (x, y) in a list if for x in list1 its square y is present in list2\n",
        "\n",
        "new_list = []\n",
        "for x in [1, 2, 3]:\n",
        "  for y in [12, 9, 27, 4, 50]:\n",
        "    if x * x == y:\n",
        "      new_list.append((x, y))\n",
        "print(new_list)"
      ],
      "execution_count": null,
      "outputs": []
    },
    {
      "cell_type": "code",
      "metadata": {
        "id": "c9gsL2qGZZf-"
      },
      "source": [
        "# using list comprehension\n",
        "\n",
        "new_list_c = [(x, y) for x in [1,2,3] for y in [12,9,27,4,50] if x*x == y]\n",
        "print(new_list_c)"
      ],
      "execution_count": null,
      "outputs": []
    },
    {
      "cell_type": "markdown",
      "metadata": {
        "id": "AhxVnLDxVQHv"
      },
      "source": [
        "#Set"
      ]
    },
    {
      "cell_type": "code",
      "metadata": {
        "id": "mkDZhDyRrpUE"
      },
      "source": [
        "r = set('Programming')\n",
        "print('The set r when printed: {}, Has length {}.'.format(r, len(r)))\n",
        "print(r)\n",
        "r"
      ],
      "execution_count": null,
      "outputs": []
    },
    {
      "cell_type": "markdown",
      "metadata": {
        "id": "ZrdyS0OgeaaO"
      },
      "source": [
        "### Avoid C style iteration. Why?"
      ]
    },
    {
      "cell_type": "code",
      "metadata": {
        "id": "4k8y54uQdkt9"
      },
      "source": [
        "rl = tuple('Progr')\n",
        "\n",
        "for i in range(len(rl)): # for (i=0; i< len; i++) print(r[i])\n",
        "    print(rl[i])"
      ],
      "execution_count": null,
      "outputs": []
    },
    {
      "cell_type": "code",
      "metadata": {
        "id": "kLTQqMTFd4v-"
      },
      "source": [
        "for e in rl:\n",
        "    print(e)"
      ],
      "execution_count": null,
      "outputs": []
    },
    {
      "cell_type": "markdown",
      "metadata": {
        "id": "rN2ELjg2epMl"
      },
      "source": [
        "## Mixing Types in a Set"
      ]
    },
    {
      "cell_type": "code",
      "metadata": {
        "id": "4WqlHRo9GTNg"
      },
      "source": [
        "r = set(('ab', 123.0, 123, 3.14, '123', 1.11, '123', 'ab'))\n",
        "print(r)"
      ],
      "execution_count": null,
      "outputs": []
    },
    {
      "cell_type": "code",
      "metadata": {
        "id": "rK--48BMVpRv"
      },
      "source": [
        "print(print(r))"
      ],
      "execution_count": null,
      "outputs": []
    },
    {
      "cell_type": "markdown",
      "metadata": {
        "id": "PEk1I2Jae0sb"
      },
      "source": [
        "## Set comprehension"
      ]
    },
    {
      "cell_type": "code",
      "metadata": {
        "id": "U3PL40n0e3ob"
      },
      "source": [
        "lwd = [x*x for x in range(-20,21) if x%2==0]\n",
        "evensq = set(lwd)\n",
        "levensq = sorted(list(evensq))\n",
        "print(sorted((1, 19, -34, 26,2), reverse=True))\n",
        "\n",
        "print(lwd, evensq, levensq, sep='\\n')"
      ],
      "execution_count": null,
      "outputs": []
    },
    {
      "cell_type": "markdown",
      "metadata": {
        "id": "NlWRCyOVaOvY"
      },
      "source": [
        "#Dictionaries"
      ]
    },
    {
      "cell_type": "code",
      "metadata": {
        "id": "v-37A8dsaM8Y"
      },
      "source": [
        "capital = {'India': 'New Delhi', 'France':'Paris', 'Sri Lanka':'Colombo' }\n",
        "newcaps = {'USA': 'Washington DC', 'Italy' : 'Rome'}\n",
        "\n",
        "print(capital)\n",
        "print(type(capital))"
      ],
      "execution_count": null,
      "outputs": []
    },
    {
      "cell_type": "code",
      "metadata": {
        "id": "ACnhBTwXaw1V"
      },
      "source": [
        "print(capital['India'])"
      ],
      "execution_count": null,
      "outputs": []
    },
    {
      "cell_type": "code",
      "metadata": {
        "id": "6zejm-pja2Va"
      },
      "source": [
        "# Uncomment the next line to see KeyError\n",
        "print(capital['UK'])"
      ],
      "execution_count": null,
      "outputs": []
    },
    {
      "cell_type": "code",
      "metadata": {
        "id": "q1S9Qsw-a8Gz"
      },
      "source": [
        "capital.get('UK', 'I am not sure')"
      ],
      "execution_count": null,
      "outputs": []
    },
    {
      "cell_type": "code",
      "metadata": {
        "id": "3ectrvqyJwVf"
      },
      "source": [
        "capital.get('France', 'Unknown')"
      ],
      "execution_count": null,
      "outputs": []
    },
    {
      "cell_type": "code",
      "metadata": {
        "id": "49AswiVCbKcp"
      },
      "source": [
        "print('Keys: ', capital.keys())\n",
        "print('Values: ', capital.values())\n",
        "print('New Delhi' in capital.values())"
      ],
      "execution_count": null,
      "outputs": []
    },
    {
      "cell_type": "code",
      "metadata": {
        "id": "vwPvuVfAf1Sp"
      },
      "source": [
        "print(capital.items())"
      ],
      "execution_count": null,
      "outputs": []
    },
    {
      "cell_type": "code",
      "metadata": {
        "id": "8T5S55_XKaHT"
      },
      "source": [
        "print(capital)\n",
        "print(newcaps)"
      ],
      "execution_count": null,
      "outputs": []
    },
    {
      "cell_type": "code",
      "metadata": {
        "id": "USUTF8w3gMp_"
      },
      "source": [
        "print(capital.get('USA', 'I donot know'))\n",
        "capital.update(newcaps)\n",
        "print(capital)\n",
        "print(capital.get('USA', 'I donot know'))\n"
      ],
      "execution_count": null,
      "outputs": []
    },
    {
      "cell_type": "code",
      "metadata": {
        "id": "I7uVQHKHspFv"
      },
      "source": [
        "print(newcaps)"
      ],
      "execution_count": null,
      "outputs": []
    },
    {
      "cell_type": "code",
      "metadata": {
        "id": "ttk44NiQswei"
      },
      "source": [
        "capital.get()"
      ],
      "execution_count": null,
      "outputs": []
    },
    {
      "cell_type": "code",
      "metadata": {
        "id": "G43BHKZ3hXXA"
      },
      "source": [
        "help(dict)"
      ],
      "execution_count": null,
      "outputs": []
    },
    {
      "cell_type": "markdown",
      "metadata": {
        "id": "Lw9rKwmggVYD"
      },
      "source": [
        "## Dictionary Comprehension"
      ]
    },
    {
      "cell_type": "code",
      "metadata": {
        "id": "CiSesK1IgThG"
      },
      "source": [
        "dsq = {x:x*x for x in range(-3,4)}\n",
        "dcu = {x:x*x*x for x in range(-2,3)}\n",
        "print(dsq)\n",
        "print(dcu)"
      ],
      "execution_count": null,
      "outputs": []
    },
    {
      "cell_type": "code",
      "metadata": {
        "id": "4d77gRVFg1TD"
      },
      "source": [
        "dsq.update(dcu)\n",
        "print(dsq)"
      ],
      "execution_count": null,
      "outputs": []
    },
    {
      "cell_type": "code",
      "metadata": {
        "id": "dwuDu7xTg96n"
      },
      "source": [
        "dcu.update(dsq)\n",
        "print(dcu)"
      ],
      "execution_count": null,
      "outputs": []
    },
    {
      "cell_type": "code",
      "metadata": {
        "id": "R0WqzFeKuQgP"
      },
      "source": [
        "print(-1 // 2)"
      ],
      "execution_count": null,
      "outputs": []
    }
  ]
}