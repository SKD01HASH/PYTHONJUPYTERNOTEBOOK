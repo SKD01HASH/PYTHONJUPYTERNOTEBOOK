{
  "nbformat": 4,
  "nbformat_minor": 0,
  "metadata": {
    "colab": {
      "name": "Day-4-Session-1.ipynb",
      "provenance": [],
      "collapsed_sections": []
    },
    "kernelspec": {
      "name": "python3",
      "display_name": "Python 3"
    }
  },
  "cells": [
    {
      "cell_type": "markdown",
      "metadata": {
        "id": "WT_MiWGoWgv_"
      },
      "source": [
        "# Fuctions"
      ]
    },
    {
      "cell_type": "code",
      "metadata": {
        "id": "umYaMcjFWESP",
        "colab": {
          "base_uri": "https://localhost:8080/",
          "height": 34
        },
        "outputId": "ae0b4d2e-7038-4fba-ccc4-67fbed595786"
      },
      "source": [
        "# maximum of three numbers\n",
        "\n",
        "a, b, c = 64, 73, 55\n",
        "\n",
        "if (a > b):\n",
        "  if (a > c):\n",
        "    max = a\n",
        "  else:\n",
        "    max = c\n",
        "else:\n",
        "  if (b > c):\n",
        "    max = b\n",
        "  else:\n",
        "    max = c\n",
        "\n",
        "print('maximum =', max)\n",
        "\n",
        "# note how many times we are comparing two numbers.."
      ],
      "execution_count": null,
      "outputs": [
        {
          "output_type": "stream",
          "text": [
            "maximum = 73\n"
          ],
          "name": "stdout"
        }
      ]
    },
    {
      "cell_type": "code",
      "metadata": {
        "id": "ctKEXyJiXmOh"
      },
      "source": [
        "# maximum of two numbers using function\n",
        "\n",
        "def max(a, b):\n",
        "  '''Returns maximum among a and b'''\n",
        "  if a > b:\n",
        "    return a\n",
        "  else:\n",
        "    return b"
      ],
      "execution_count": null,
      "outputs": []
    },
    {
      "cell_type": "code",
      "metadata": {
        "id": "smAwn17AYBks",
        "colab": {
          "base_uri": "https://localhost:8080/",
          "height": 34
        },
        "outputId": "e028c5f4-bc1f-4206-ad68-ab9314f6506e"
      },
      "source": [
        "a, b, c, d, e = 64, 73, 55, 431, 54\n",
        "\n",
        "m = max(a, b)\n",
        "m = max(m, c)\n",
        "m = max(m, d)\n",
        "m = max(m, e)\n",
        "\n",
        "print('maximum =', m)"
      ],
      "execution_count": null,
      "outputs": [
        {
          "output_type": "stream",
          "text": [
            "maximum = 431\n"
          ],
          "name": "stdout"
        }
      ]
    },
    {
      "cell_type": "code",
      "metadata": {
        "id": "YkyRygoFZIxI"
      },
      "source": [
        "'''Write a function to calculate minimum among two integers\n",
        "  and use it to find minimum amoung 3 integers'''"
      ],
      "execution_count": null,
      "outputs": []
    },
    {
      "cell_type": "code",
      "metadata": {
        "id": "ozVhowpSYlsc",
        "colab": {
          "base_uri": "https://localhost:8080/",
          "height": 34
        },
        "outputId": "cce4801c-e2a8-40b9-eb36-10000cc7253f"
      },
      "source": [
        "# function call is an expression.\n",
        "\n",
        "print(max(5, 3))"
      ],
      "execution_count": null,
      "outputs": [
        {
          "output_type": "stream",
          "text": [
            "5\n"
          ],
          "name": "stdout"
        }
      ]
    },
    {
      "cell_type": "code",
      "metadata": {
        "id": "AbestpMzZDYX",
        "colab": {
          "base_uri": "https://localhost:8080/",
          "height": 34
        },
        "outputId": "d4266c97-41d1-4b36-81a2-90a601733a19"
      },
      "source": [
        "# print maximum of three numbers (10, 45, 2) using a single statement\n",
        "def max3 (a, b, c):\n",
        "    ''' Compute max of 3 numbers using max of two numbers'''\n",
        "    return (max(a, max(b, c)))\n",
        "\n",
        "print(max3(10, 45, 2))"
      ],
      "execution_count": null,
      "outputs": [
        {
          "output_type": "stream",
          "text": [
            "45\n"
          ],
          "name": "stdout"
        }
      ]
    },
    {
      "cell_type": "code",
      "metadata": {
        "id": "qLtDdARMZXGY"
      },
      "source": [
        "# method to print name of the user or initials\n",
        "\n",
        "def printName(firstName, lastName, initials):\n",
        "  if initials: #'' \n",
        "    print(firstName[0] + '.' + lastName[0] + '.')\n",
        "  else:\n",
        "    print(firstName, lastName)"
      ],
      "execution_count": null,
      "outputs": []
    },
    {
      "cell_type": "code",
      "metadata": {
        "id": "cxoXgihnp46z",
        "colab": {
          "base_uri": "https://localhost:8080/",
          "height": 34
        },
        "outputId": "cb1307f1-8af8-489e-80ba-5921cbc73fdc"
      },
      "source": [
        "'''\n",
        "write code to use this function.\n",
        "'''\n",
        "printName('Karkare', True, '')"
      ],
      "execution_count": null,
      "outputs": [
        {
          "output_type": "stream",
          "text": [
            "Karkare True\n"
          ],
          "name": "stdout"
        }
      ]
    },
    {
      "cell_type": "code",
      "metadata": {
        "id": "x96xxC6qJDJ4",
        "colab": {
          "base_uri": "https://localhost:8080/",
          "height": 201
        },
        "outputId": "e23e1f78-d06f-4a05-b315-f800217cd357"
      },
      "source": [
        "# note that the printName() method has thee parameters\n",
        "\n",
        "# lets pass only two arguments\n",
        "printName('Sachin', 'Tendulkar')"
      ],
      "execution_count": null,
      "outputs": [
        {
          "output_type": "error",
          "ename": "TypeError",
          "evalue": "ignored",
          "traceback": [
            "\u001b[0;31m---------------------------------------------------------------------------\u001b[0m",
            "\u001b[0;31mTypeError\u001b[0m                                 Traceback (most recent call last)",
            "\u001b[0;32m<ipython-input-15-5606f5671ac2>\u001b[0m in \u001b[0;36m<module>\u001b[0;34m()\u001b[0m\n\u001b[1;32m      2\u001b[0m \u001b[0;34m\u001b[0m\u001b[0m\n\u001b[1;32m      3\u001b[0m \u001b[0;31m# lets pass only two arguments\u001b[0m\u001b[0;34m\u001b[0m\u001b[0;34m\u001b[0m\u001b[0;34m\u001b[0m\u001b[0m\n\u001b[0;32m----> 4\u001b[0;31m \u001b[0mprintName\u001b[0m\u001b[0;34m(\u001b[0m\u001b[0;34m'Sachin'\u001b[0m\u001b[0;34m,\u001b[0m \u001b[0;34m'Tendulkar'\u001b[0m\u001b[0;34m)\u001b[0m\u001b[0;34m\u001b[0m\u001b[0;34m\u001b[0m\u001b[0m\n\u001b[0m",
            "\u001b[0;31mTypeError\u001b[0m: printName() missing 1 required positional argument: 'initials'"
          ]
        }
      ]
    },
    {
      "cell_type": "code",
      "metadata": {
        "id": "M40zCSjAJbRl"
      },
      "source": [
        "# we can set a default value for parameter.\n",
        "def printName(firstName, lastName, initials = True):\n",
        "  if initials:\n",
        "    print(firstName[0] + '.' + lastName[0] + '.')\n",
        "  else:\n",
        "    print(firstName, lastName)"
      ],
      "execution_count": null,
      "outputs": []
    },
    {
      "cell_type": "code",
      "metadata": {
        "id": "ZtgJ0j97JtZY",
        "colab": {
          "base_uri": "https://localhost:8080/",
          "height": 52
        },
        "outputId": "83aef4f0-a67e-478f-c4b9-58c121371233"
      },
      "source": [
        "printName(lastName='Sachin', firstName='Tendulkar')\n",
        "printName(lastName=[1, 2,3], firstName=(0, 2, 3), initials=False)"
      ],
      "execution_count": null,
      "outputs": [
        {
          "output_type": "stream",
          "text": [
            "T.S.\n",
            "(0, 2, 3) [1, 2, 3]\n"
          ],
          "name": "stdout"
        }
      ]
    },
    {
      "cell_type": "code",
      "metadata": {
        "id": "gg56jEOmJzEZ",
        "colab": {
          "base_uri": "https://localhost:8080/",
          "height": 52
        },
        "outputId": "cb24b54e-bc8c-440a-efeb-f23772539b3e"
      },
      "source": [
        "# print only initials\n",
        "printName('Sachin', 'Tendulkar', True)\n",
        "\n",
        "print('Sachin', end='_#_')\n",
        "print('Tendulkar')"
      ],
      "execution_count": null,
      "outputs": [
        {
          "output_type": "stream",
          "text": [
            "S.T.\n",
            "Sachin_#_Tendulkar\n"
          ],
          "name": "stdout"
        }
      ]
    },
    {
      "cell_type": "markdown",
      "metadata": {
        "id": "8asifs90JEYa"
      },
      "source": [
        "#Scope of Variables"
      ]
    },
    {
      "cell_type": "code",
      "metadata": {
        "id": "kVwu8k_MMsMi",
        "colab": {
          "base_uri": "https://localhost:8080/",
          "height": 262
        },
        "outputId": "385a27a2-51e4-435e-d50f-7c2d56dd0a32"
      },
      "source": [
        "# scope of a variable\n",
        "\n",
        "x = 5\n",
        "\n",
        "def return_num(number):\n",
        "  print('number =', number)\n",
        "  print('x =', x)\n",
        "  return number\n",
        "\n",
        "print(x)\n",
        "return_num(4)\n",
        "print(number)"
      ],
      "execution_count": null,
      "outputs": [
        {
          "output_type": "stream",
          "text": [
            "5\n",
            "number = 4\n",
            "x = 5\n"
          ],
          "name": "stdout"
        },
        {
          "output_type": "error",
          "ename": "NameError",
          "evalue": "ignored",
          "traceback": [
            "\u001b[0;31m---------------------------------------------------------------------------\u001b[0m",
            "\u001b[0;31mNameError\u001b[0m                                 Traceback (most recent call last)",
            "\u001b[0;32m<ipython-input-9-f587870d5f95>\u001b[0m in \u001b[0;36m<module>\u001b[0;34m()\u001b[0m\n\u001b[1;32m     10\u001b[0m \u001b[0mprint\u001b[0m\u001b[0;34m(\u001b[0m\u001b[0mx\u001b[0m\u001b[0;34m)\u001b[0m\u001b[0;34m\u001b[0m\u001b[0;34m\u001b[0m\u001b[0m\n\u001b[1;32m     11\u001b[0m \u001b[0mreturn_num\u001b[0m\u001b[0;34m(\u001b[0m\u001b[0;36m4\u001b[0m\u001b[0;34m)\u001b[0m\u001b[0;34m\u001b[0m\u001b[0;34m\u001b[0m\u001b[0m\n\u001b[0;32m---> 12\u001b[0;31m \u001b[0mprint\u001b[0m\u001b[0;34m(\u001b[0m\u001b[0mnumber\u001b[0m\u001b[0;34m)\u001b[0m\u001b[0;34m\u001b[0m\u001b[0;34m\u001b[0m\u001b[0m\n\u001b[0m",
            "\u001b[0;31mNameError\u001b[0m: name 'number' is not defined"
          ]
        }
      ]
    },
    {
      "cell_type": "code",
      "metadata": {
        "id": "eBAaC5HBJ15y",
        "colab": {
          "base_uri": "https://localhost:8080/",
          "height": 34
        },
        "outputId": "daacb881-c807-4922-e44c-5be2a6590532"
      },
      "source": [
        "def maximum(a, b):\n",
        "  if a > b:\n",
        "    return a\n",
        "  else:\n",
        "    return b\n",
        "def minimum(a, b):\n",
        "  if a < b:\n",
        "    return a\n",
        "  else:\n",
        "    return b\n",
        "x = -1\n",
        "x = maximum(3 + 6, 4)\n",
        "y = minimum(x, 9 - 4)\n",
        "print(x, y)"
      ],
      "execution_count": null,
      "outputs": [
        {
          "output_type": "stream",
          "text": [
            "9 5\n"
          ],
          "name": "stdout"
        }
      ]
    },
    {
      "cell_type": "markdown",
      "metadata": {
        "id": "LYB2sLzeJN6_"
      },
      "source": [
        "#Global Variables"
      ]
    },
    {
      "cell_type": "code",
      "metadata": {
        "id": "nYaS528-NGdx",
        "colab": {
          "base_uri": "https://localhost:8080/",
          "height": 104
        },
        "outputId": "91b3ef6e-6aa6-4560-967f-27a116d3ffc7"
      },
      "source": [
        "# global variable\n",
        "\n",
        "PI = 3.14\n",
        "def perimeter(r):\n",
        "  return 2*PI*r\n",
        "\n",
        "def area(r):\n",
        "  return PI*r*r\n",
        "\n",
        "def update_pi(newpi):\n",
        "  global PI\n",
        "  PI = newpi\n",
        "\n",
        "print(area(100))\n",
        "print(perimeter(10))\n",
        "update_pi(22/7)\n",
        "print(area(100))\n",
        "print(perimeter(10))\n",
        "print(PI)"
      ],
      "execution_count": null,
      "outputs": [
        {
          "output_type": "stream",
          "text": [
            "31400.0\n",
            "62.800000000000004\n",
            "31428.571428571428\n",
            "62.857142857142854\n",
            "3.142857142857143\n"
          ],
          "name": "stdout"
        }
      ]
    },
    {
      "cell_type": "code",
      "metadata": {
        "id": "EpwUsxsLyzXq",
        "colab": {
          "base_uri": "https://localhost:8080/",
          "height": 121
        },
        "outputId": "49091c95-ef07-4a27-e9e1-1d85638cff20"
      },
      "source": [
        "# if global is not used\n",
        "PI = 3.14\n",
        "def perimeter(r):\n",
        "  return 2*PI*r\n",
        "\n",
        "def area(r):\n",
        "  return PI*r*r\n",
        "\n",
        "def update_pi():\n",
        "  global PI\n",
        "  PI = 3.14159\n",
        "  print('Local PI', PI)\n",
        "\n",
        "print(area(100))\n",
        "print(perimeter(10))\n",
        "update_pi()\n",
        "print(area(100))\n",
        "print(perimeter(10))\n",
        "print('Global PI', PI)"
      ],
      "execution_count": null,
      "outputs": [
        {
          "output_type": "stream",
          "text": [
            "31400.0\n",
            "62.800000000000004\n",
            "Local PI 3.14159\n",
            "31415.899999999998\n",
            "62.8318\n",
            "Global PI 3.14159\n"
          ],
          "name": "stdout"
        }
      ]
    }
  ]
}