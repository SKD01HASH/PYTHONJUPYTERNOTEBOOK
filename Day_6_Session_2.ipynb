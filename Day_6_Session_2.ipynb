{
  "nbformat": 4,
  "nbformat_minor": 0,
  "metadata": {
    "colab": {
      "name": "Day-6-Session-2.ipynb",
      "provenance": [],
      "collapsed_sections": []
    },
    "kernelspec": {
      "name": "python3",
      "display_name": "Python 3"
    }
  },
  "cells": [
    {
      "cell_type": "markdown",
      "metadata": {
        "id": "N9rykJjERNP7"
      },
      "source": [
        "# File I/O"
      ]
    },
    {
      "cell_type": "code",
      "metadata": {
        "id": "omYkV-w6eqAO",
        "colab": {
          "base_uri": "https://localhost:8080/",
          "height": 72
        },
        "outputId": "b61554ab-0632-44ae-c096-9edd6194e7dc"
      },
      "source": [
        "# Basic Input/Output in Python\n",
        "input1 = eval(input(\"Enter your input: \"))\n",
        "print (\"Received input is : \", input1)"
      ],
      "execution_count": null,
      "outputs": [
        {
          "output_type": "stream",
          "text": [
            "Enter your input: [3*x for x in [1,2,3,4,5]]\n",
            "Received input is :  [3, 6, 9, 12, 15]\n"
          ],
          "name": "stdout"
        }
      ]
    },
    {
      "cell_type": "code",
      "metadata": {
        "id": "7oqwUYFIbDBe",
        "colab": {
          "base_uri": "https://localhost:8080/"
        },
        "outputId": "64cbe378-2d48-4ab2-867b-0cb11d9be6a3"
      },
      "source": [
        "try:\n",
        "  players=open('tennis_players', 'w')\n",
        "  players.close()\n",
        "except IOError:\n",
        "  print(\"File not found or path is incorrect\")\n",
        "finally:\n",
        "  print(\"exit\")\n",
        "y=10\n",
        "print(y)"
      ],
      "execution_count": null,
      "outputs": [
        {
          "output_type": "stream",
          "text": [
            "exit\n",
            "10\n"
          ],
          "name": "stdout"
        }
      ]
    },
    {
      "cell_type": "code",
      "metadata": {
        "id": "naFRUxa1QpAx"
      },
      "source": [
        "# create a file\n",
        "try:\n",
        "  players = open('tennis_players', 'w')\n",
        "\n",
        "  players.write('Roger Federar\\n')\n",
        "  players.write('Rafael Nadal\\n')\n",
        "  players.write('Andy Murray\\n')\n",
        "  players.write('Novak Djokovic\\n')\n",
        "  players.write('Leander Paes\\n')\n",
        "except IOError as e:\n",
        "  print(\"Error\")\n",
        "finally:\n",
        "  players.close()"
      ],
      "execution_count": null,
      "outputs": []
    },
    {
      "cell_type": "code",
      "metadata": {
        "id": "ylsXuEt7ghzD"
      },
      "source": [
        ""
      ],
      "execution_count": null,
      "outputs": []
    },
    {
      "cell_type": "code",
      "metadata": {
        "id": "uINOnSvHY7IF",
        "colab": {
          "base_uri": "https://localhost:8080/"
        },
        "outputId": "db96553a-ea75-4389-d2c5-7659ba04b723"
      },
      "source": [
        "filename = \"tennis_players\" \n",
        "file = open(filename, \"r\")\n",
        "for line in file:\n",
        "   print(line)\n",
        "\n",
        "#print(type(line))\n",
        "#print(line)"
      ],
      "execution_count": null,
      "outputs": [
        {
          "output_type": "stream",
          "text": [
            "Roger Federar\n",
            "\n",
            "Rafael Nadal\n",
            "\n",
            "Andy Murray\n",
            "\n",
            "Novak Djokovic\n",
            "\n",
            "Leander Paes\n",
            "\n"
          ],
          "name": "stdout"
        }
      ]
    },
    {
      "cell_type": "code",
      "metadata": {
        "id": "F0QOxdaGPYqN"
      },
      "source": [
        "# create another file\n",
        "countries = open('tennis_countries', 'w')\n",
        "\n",
        "countries.write('Switzerland\\n')\n",
        "countries.write('Spain\\n')\n",
        "countries.write('Britain\\n')\n",
        "countries.write('Serbia\\n')\n",
        "countries.write('India\\n')\n",
        "\n",
        "countries.close()"
      ],
      "execution_count": null,
      "outputs": []
    },
    {
      "cell_type": "code",
      "metadata": {
        "id": "4rt6h0sNSZu2",
        "colab": {
          "base_uri": "https://localhost:8080/"
        },
        "outputId": "acbfac04-4001-43e7-ebdf-92241939d073"
      },
      "source": [
        "print(players)\n",
        "print(type(players))\n",
        "print(countries)"
      ],
      "execution_count": null,
      "outputs": [
        {
          "output_type": "stream",
          "text": [
            "<_io.TextIOWrapper name='tennis_players' mode='w' encoding='UTF-8'>\n",
            "<class '_io.TextIOWrapper'>\n",
            "<_io.TextIOWrapper name='tennis_countries' mode='w' encoding='UTF-8'>\n"
          ],
          "name": "stdout"
        }
      ]
    },
    {
      "cell_type": "code",
      "metadata": {
        "id": "q9UApCp_SidL"
      },
      "source": [
        "n = open('tennis_players', 'r')\n",
        "c = open('tennis_countries', 'r')"
      ],
      "execution_count": null,
      "outputs": []
    },
    {
      "cell_type": "code",
      "metadata": {
        "id": "IGAiASr8S0sh",
        "colab": {
          "base_uri": "https://localhost:8080/",
          "height": 35
        },
        "outputId": "dad13083-7a41-4366-86d0-83c0de9da340"
      },
      "source": [
        "# read all players\n",
        "pn = n.read()\n",
        "pn"
      ],
      "execution_count": null,
      "outputs": [
        {
          "output_type": "execute_result",
          "data": {
            "application/vnd.google.colaboratory.intrinsic+json": {
              "type": "string"
            },
            "text/plain": [
              "'Roger Federar\\nRafael Nadal\\nAndy Murray\\nNovak Djokovic\\nLeander Paes\\n'"
            ]
          },
          "metadata": {
            "tags": []
          },
          "execution_count": 13
        }
      ]
    },
    {
      "cell_type": "code",
      "metadata": {
        "id": "f8WwgqDvTJPj",
        "colab": {
          "base_uri": "https://localhost:8080/",
          "height": 123
        },
        "outputId": "7594c74f-7622-4f7c-8ab8-add94aaea1bf"
      },
      "source": [
        "print(pn)"
      ],
      "execution_count": null,
      "outputs": [
        {
          "output_type": "stream",
          "text": [
            "Roger Federar\n",
            "Rafael Nadal\n",
            "Andy Murray\n",
            "Novak Djokovic\n",
            "Leander Paes\n",
            "\n"
          ],
          "name": "stdout"
        }
      ]
    },
    {
      "cell_type": "code",
      "metadata": {
        "id": "DgRdtxsbjk8c",
        "colab": {
          "base_uri": "https://localhost:8080/",
          "height": 35
        },
        "outputId": "04d4573c-a90d-4c86-fd30-c350286c63b7"
      },
      "source": [
        "type(pn)"
      ],
      "execution_count": null,
      "outputs": [
        {
          "output_type": "execute_result",
          "data": {
            "text/plain": [
              "str"
            ]
          },
          "metadata": {
            "tags": []
          },
          "execution_count": 15
        }
      ]
    },
    {
      "cell_type": "code",
      "metadata": {
        "id": "suR4rjbOTKwq"
      },
      "source": [
        "# lines to list\n",
        "\n",
        "n = open('tennis_players', 'r')\n",
        "c = open('tennis_countries', 'r')\n",
        "\n",
        "\n",
        "pn, pc = [], []\n",
        "\n",
        "for line in n:\n",
        "  pn.append(line[:-1])\n",
        "\n",
        "n.close()\n",
        "\n",
        "for l in c:\n",
        "  pc.append(l[:-1])\n",
        "\n",
        "c.close()"
      ],
      "execution_count": null,
      "outputs": []
    },
    {
      "cell_type": "code",
      "metadata": {
        "id": "xS-VJG6HXbU5",
        "colab": {
          "base_uri": "https://localhost:8080/",
          "height": 52
        },
        "outputId": "7416bc33-4590-4681-eb27-9d5145613765"
      },
      "source": [
        "print(pn)\n",
        "print(pc)"
      ],
      "execution_count": null,
      "outputs": [
        {
          "output_type": "stream",
          "text": [
            "['Roger Federar', 'Rafael Nadal', 'Andy Murray', 'Novak Djokovic', 'Leander Paes']\n",
            "['Switzerland', 'Spain', 'Britain', 'Serbia', 'India']\n"
          ],
          "name": "stdout"
        }
      ]
    },
    {
      "cell_type": "code",
      "metadata": {
        "id": "x8R7vrshXoBk",
        "colab": {
          "base_uri": "https://localhost:8080/",
          "height": 55
        },
        "outputId": "7f23b1c1-dbe5-441e-d238-d4cca445fdbd"
      },
      "source": [
        "name_country = []\n",
        "\n",
        "for l in range(len(pn)):\n",
        "  name_country.append((pn[l], pc[l]))\n",
        "\n",
        "print(name_country)"
      ],
      "execution_count": null,
      "outputs": [
        {
          "output_type": "stream",
          "text": [
            "[('Roger Federar', 'Switzerland'), ('Rafael Nadal', 'Spain'), ('Andy Murray', 'Britain'), ('Novak Djokovic', 'Serbia'), ('Leander Paes', 'India')]\n"
          ],
          "name": "stdout"
        }
      ]
    },
    {
      "cell_type": "code",
      "metadata": {
        "id": "k2ZB1o-MyOL7",
        "colab": {
          "base_uri": "https://localhost:8080/",
          "height": 55
        },
        "outputId": "a35fc56a-7a28-473a-998d-eba58933ca6e"
      },
      "source": [
        "n2c = dict(name_country)\n",
        "print(n2c)"
      ],
      "execution_count": null,
      "outputs": [
        {
          "output_type": "stream",
          "text": [
            "{'Roger Federar': 'Switzerland', 'Rafael Nadal': 'Spain', 'Andy Murray': 'Britain', 'Novak Djokovic': 'Serbia', 'Leander Paes': 'India'}\n"
          ],
          "name": "stdout"
        }
      ]
    },
    {
      "cell_type": "code",
      "metadata": {
        "id": "oGzjA9LJySBj",
        "colab": {
          "base_uri": "https://localhost:8080/",
          "height": 35
        },
        "outputId": "2c196e61-5020-459a-a00a-a6b68083d4da"
      },
      "source": [
        "n2c['Leander Paes']"
      ],
      "execution_count": null,
      "outputs": [
        {
          "output_type": "execute_result",
          "data": {
            "application/vnd.google.colaboratory.intrinsic+json": {
              "type": "string"
            },
            "text/plain": [
              "'India'"
            ]
          },
          "metadata": {
            "tags": []
          },
          "execution_count": 21
        }
      ]
    },
    {
      "cell_type": "code",
      "metadata": {
        "id": "HIvIFXCVobct",
        "colab": {
          "base_uri": "https://localhost:8080/",
          "height": 70
        },
        "outputId": "098f3cd4-3119-4285-aa20-c5f54f473a1c"
      },
      "source": [
        "# read first n characters from a file (?)\n",
        "n = open('tennis_players', 'r')\n",
        "pn = n.read(30)\n",
        "print(pn)\n",
        "n.close()"
      ],
      "execution_count": null,
      "outputs": [
        {
          "output_type": "stream",
          "text": [
            "Roger Federar\n",
            "Rafael Nadal\n",
            "And\n"
          ],
          "name": "stdout"
        }
      ]
    },
    {
      "cell_type": "code",
      "metadata": {
        "id": "NXCYnjRkpWux",
        "colab": {
          "base_uri": "https://localhost:8080/",
          "height": 52
        },
        "outputId": "3541c689-8ef0-4375-aa0d-5df73bc5f2db"
      },
      "source": [
        "# read first n bytes from a particular line (?)\n",
        "\n",
        "n = open('tennis_players', 'r')\n",
        "pn1 = n.readline(30)    #readline(3)\n",
        "print(pn1)\n",
        "n.close()"
      ],
      "execution_count": null,
      "outputs": [
        {
          "output_type": "stream",
          "text": [
            "Roger Federar\n",
            "\n"
          ],
          "name": "stdout"
        }
      ]
    },
    {
      "cell_type": "code",
      "metadata": {
        "id": "Bj-f-silqe6Z",
        "colab": {
          "base_uri": "https://localhost:8080/"
        },
        "outputId": "f55600e3-cf72-48a5-9b2a-039a6f164137"
      },
      "source": [
        "# read multiple lines\n",
        "\n",
        "n = open('tennis_players', 'r')\n",
        "print(n.readline())\n",
        "print(n.readline())    #readline(3)\n",
        "# print(pn1)\n",
        "n.close()"
      ],
      "execution_count": null,
      "outputs": [
        {
          "output_type": "stream",
          "text": [
            "Roger Federar\n",
            "\n",
            "Rafael Nadal\n",
            "\n"
          ],
          "name": "stdout"
        }
      ]
    },
    {
      "cell_type": "code",
      "metadata": {
        "id": "OH_aVfU9quSY",
        "colab": {
          "base_uri": "https://localhost:8080/",
          "height": 54
        },
        "outputId": "b53806d0-8995-4a93-b615-8c733ed852b4"
      },
      "source": [
        "# better way : lines to list\n",
        "\n",
        "n = open('tennis_players', 'r')\n",
        "lines = n.readlines()\n",
        "print(lines)\n",
        "n.close()"
      ],
      "execution_count": null,
      "outputs": [
        {
          "output_type": "stream",
          "text": [
            "['Roger Federar\\n', 'Rafael Nadal\\n', 'Andy Murray\\n', 'Novak Djokovic\\n', 'Leander Paes\\n']\n"
          ],
          "name": "stdout"
        }
      ]
    },
    {
      "cell_type": "code",
      "metadata": {
        "id": "EAQNF3RIp5gg"
      },
      "source": [
        "# writelines()\n",
        "\n",
        "players = ['Roger Federar\\n', 'Rafael Nadal\\n', 'Andy Murray\\n', 'Novak Djokovic\\n', 'Leander Paes\\n']\n",
        "\n",
        "another_file = open('names', 'w')\n",
        "another_file.writelines(players)\n",
        "another_file.close()"
      ],
      "execution_count": null,
      "outputs": []
    },
    {
      "cell_type": "code",
      "metadata": {
        "id": "4Xr9i9W-sz2w",
        "colab": {
          "base_uri": "https://localhost:8080/",
          "height": 193
        },
        "outputId": "761f392e-789d-4751-87e2-9a6e822f6357"
      },
      "source": [
        "another_file = open('names', 'r')\n",
        "for line in another_file:\n",
        "  print(line)\n",
        "\n",
        "another_file.close()"
      ],
      "execution_count": null,
      "outputs": [
        {
          "output_type": "stream",
          "text": [
            "Roger Federar\n",
            "\n",
            "Rafael Nadal\n",
            "\n",
            "Andy Murray\n",
            "\n",
            "Novak Djokovic\n",
            "\n",
            "Leander Paes\n",
            "\n"
          ],
          "name": "stdout"
        }
      ]
    },
    {
      "cell_type": "code",
      "metadata": {
        "id": "lR9IChsvs39h"
      },
      "source": [
        "# append mode: start writing to an exsting file from its end\n",
        "\n",
        "more_players = ['Dominic Thiem\\n', 'Nick Kyrogios\\n']\n",
        "another_file = open('names', 'a')\n",
        "another_file.writelines(more_players)\n",
        "\n",
        "# try to read the file\n",
        "# for line in another_file:\n",
        "  # print(line)\n",
        "\n",
        "another_file.close()"
      ],
      "execution_count": null,
      "outputs": []
    },
    {
      "cell_type": "code",
      "metadata": {
        "id": "hgl4-5bmk03C",
        "colab": {
          "base_uri": "https://localhost:8080/",
          "height": 260
        },
        "outputId": "dc133839-e272-4fc4-ffa4-31bfbeabf00b"
      },
      "source": [
        "another_file = open('names', 'r')\n",
        "for line in another_file:\n",
        "  print(line)\n",
        "\n",
        "another_file.close()"
      ],
      "execution_count": null,
      "outputs": [
        {
          "output_type": "stream",
          "text": [
            "Roger Federar\n",
            "\n",
            "Rafael Nadal\n",
            "\n",
            "Andy Murray\n",
            "\n",
            "Novak Djokovic\n",
            "\n",
            "Leander Paes\n",
            "\n",
            "Dominic Thiem\n",
            "\n",
            "Nick Kyrogios\n",
            "\n"
          ],
          "name": "stdout"
        }
      ]
    },
    {
      "cell_type": "code",
      "metadata": {
        "id": "1klMyoUUt7CU"
      },
      "source": [
        "#  use seek() to bring cursor at desired position (?)\n",
        "\n",
        "more_players = ['Dominic Thiem\\n', 'Nick Kyrogios\\n']\n",
        "another_file = open('more_names', 'w+')\n",
        "another_file.writelines(more_players)\n",
        "#another_file.seek(0)\n",
        "\n",
        "# try to read the file\n",
        "for line in another_file:\n",
        "  print(line)\n",
        "\n",
        "another_file.close()"
      ],
      "execution_count": null,
      "outputs": []
    },
    {
      "cell_type": "code",
      "metadata": {
        "id": "TJ7A5fj3vxpn",
        "colab": {
          "base_uri": "https://localhost:8080/"
        },
        "outputId": "8c1a834e-8da3-494e-83bf-10dd307369fb"
      },
      "source": [
        "# use tell() to know position of the cursor (?)\n",
        "\n",
        "another_file = open('more_names', 'a')\n",
        "print(another_file.tell())\n",
        "another_file.close()"
      ],
      "execution_count": null,
      "outputs": [
        {
          "output_type": "stream",
          "text": [
            "28\n"
          ],
          "name": "stdout"
        }
      ]
    },
    {
      "cell_type": "code",
      "metadata": {
        "id": "jn8KyRpRqYXr",
        "colab": {
          "base_uri": "https://localhost:8080/"
        },
        "outputId": "9aef38b9-45b0-41ae-d965-0f5b6f980901"
      },
      "source": [
        "more_players = ['Dominic Thiem\\n', 'Nick Kyrogios\\n']\n",
        "another_file = open('more_names', 'w+')\n",
        "another_file.writelines(more_players)\n",
        "print(another_file.tell())\n",
        "another_file.write('A')\n",
        "print(another_file.tell())\n",
        "another_file.write('B')\n",
        "print(another_file.tell())\n",
        "another_file.seek(0)\n",
        "\n",
        "# try to read the file\n",
        "for line in another_file:\n",
        "  print(line)\n",
        "\n",
        "another_file.close()"
      ],
      "execution_count": null,
      "outputs": [
        {
          "output_type": "stream",
          "text": [
            "28\n",
            "29\n",
            "30\n",
            "Dominic Thiem\n",
            "\n",
            "Nick Kyrogios\n",
            "\n",
            "AB\n"
          ],
          "name": "stdout"
        }
      ]
    },
    {
      "cell_type": "code",
      "metadata": {
        "id": "H-orXNFmACgm"
      },
      "source": [
        "f = open(\"path_to_file\", \"r\")\n",
        "contents = f.readlines()\n",
        "f.close()\n",
        "\n",
        "contents.insert(index, value)\n",
        "\n",
        "f = open(\"path_to_file\", \"w\")\n",
        "contents = \"\".join(contents)\n",
        "f.write(contents)\n",
        "f.close()"
      ],
      "execution_count": null,
      "outputs": []
    }
  ]
}